{
  "nbformat": 4,
  "nbformat_minor": 0,
  "metadata": {
    "colab": {
      "provenance": []
    },
    "kernelspec": {
      "name": "python3",
      "display_name": "Python 3"
    },
    "language_info": {
      "name": "python"
    }
  },
  "cells": [
    {
      "cell_type": "code",
      "execution_count": 6,
      "metadata": {
        "colab": {
          "base_uri": "https://localhost:8080/"
        },
        "id": "ISfybiurAdCa",
        "outputId": "76243af0-05ea-4eb6-be1b-3f5776e019ab"
      },
      "outputs": [
        {
          "output_type": "stream",
          "name": "stdout",
          "text": [
            "Enter the string 'Python': python\n",
            "Reversed string: noht\n"
          ]
        }
      ],
      "source": [
        "a= list(input(\"Enter the string 'Python': \"))\n",
        "if len(a) >= 2:\n",
        "    del a[0:2]\n",
        "else:\n",
        "    print(\"Input string is too short to delete 2 characters.\")\n",
        "\n",
        "a.reverse()\n",
        "print(\"Reversed string:\", ''.join(a))\n"
      ]
    },
    {
      "cell_type": "code",
      "source": [
        "a= int(input(\"Enter the first number: \"))\n",
        "b= int(input(\"Enter the second number: \"))\n",
        "\n",
        "print(\"Addition:\", a+b)\n",
        "print(\"Subtraction:\", a-b)\n",
        "print(\"Multiplication:\",a*b)\n",
        "print(\"Division:\", a/b)"
      ],
      "metadata": {
        "colab": {
          "base_uri": "https://localhost:8080/"
        },
        "id": "FQSZKB_XGG1P",
        "outputId": "b470d02a-6007-4673-ea85-355a17af7221"
      },
      "execution_count": 7,
      "outputs": [
        {
          "output_type": "stream",
          "name": "stdout",
          "text": [
            "Enter the first number: 6\n",
            "Enter the second number: 2\n",
            "Addition: 8\n",
            "Subtraction: 4\n",
            "Multiplication: 12\n",
            "Division: 3.0\n"
          ]
        }
      ]
    },
    {
      "cell_type": "code",
      "source": [
        "a= input(\"Input a  sentence: \")\n",
        "b=a.replace('python', 'pythons')\n",
        "print(\"Modified sentence:\",b)\n"
      ],
      "metadata": {
        "colab": {
          "base_uri": "https://localhost:8080/"
        },
        "id": "EsAgadDYICOj",
        "outputId": "891c348a-5df7-47a7-b542-6e8337e46e0c"
      },
      "execution_count": 9,
      "outputs": [
        {
          "output_type": "stream",
          "name": "stdout",
          "text": [
            "Input a  sentence: python is a\n",
            "Modified sentence: pythons is a\n"
          ]
        }
      ]
    },
    {
      "cell_type": "code",
      "source": [
        "score = float(input(\"Enter the marks : \"))\n",
        "if 90 <= score <= 100:\n",
        "    grade = 'A'\n",
        "elif 80 <= score < 90:\n",
        "    grade = 'B'\n",
        "elif 70 <= score < 80:\n",
        "    grade = 'C'\n",
        "elif 60 <= score < 70:\n",
        "    grade = 'D'\n",
        "elif 0 <= score < 60:\n",
        "    grade = 'F'\n",
        "else:\n",
        "    grade = 'Invalid score'\n",
        "\n",
        "print(\"Your grade is:\", grade)"
      ],
      "metadata": {
        "colab": {
          "base_uri": "https://localhost:8080/"
        },
        "id": "8vHx8GpEId4P",
        "outputId": "73c8739e-32b8-48c4-edd4-96148732d0c7"
      },
      "execution_count": 10,
      "outputs": [
        {
          "output_type": "stream",
          "name": "stdout",
          "text": [
            "Enter the marks : 60\n",
            "Your grade is: D\n"
          ]
        }
      ]
    }
  ]
}